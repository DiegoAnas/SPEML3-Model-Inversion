{
 "cells": [
  {
   "cell_type": "markdown",
   "metadata": {},
   "source": [
    "## Imports"
   ]
  },
  {
   "cell_type": "code",
   "execution_count": 1,
   "metadata": {
    "pycharm": {
     "is_executing": false
    }
   },
   "outputs": [],
   "source": [
    "import sys\n",
    "import os\n",
    "import numpy as np\n",
    "import matplotlib.pyplot as plt\n",
    "from skimage import io\n",
    "import math\n",
    "import copy\n",
    "\n",
    "import torch\n",
    "import torchvision \n",
    "import torch.optim as optim\n",
    "import torch.nn as nn\n",
    "from torch.utils.data.dataset import Dataset\n",
    "from skimage.restoration import denoise_nl_means, estimate_sigma\n",
    "\n",
    "### import utilities  from cyphercat repo\n",
    "sys.path.insert(0, 'Utils')\n",
    "import models\n",
    "from train import *\n",
    "from metrics import * \n",
    "\n"
   ]
  },
  {
   "cell_type": "markdown",
   "metadata": {
    "pycharm": {
     "name": "#%% md\n"
    }
   },
   "source": [
    "## Hyperparameters"
   ]
  },
  {
   "cell_type": "code",
   "execution_count": 2,
   "metadata": {
    "pycharm": {
     "is_executing": false,
     "name": "#%%\n"
    }
   },
   "outputs": [],
   "source": [
    "os.environ[\"CUDA_VISIBLE_DEVICES\"]=\"cuda:0\"\n",
    "import pycuda.driver as cuda\n",
    "cuda.init()"
   ]
  },
  {
   "cell_type": "code",
   "execution_count": 3,
   "metadata": {
    "pycharm": {
     "is_executing": false,
     "name": "#%%\n"
    }
   },
   "outputs": [],
   "source": [
    "n_epochs = 100\n",
    "batch_size = 32\n",
    "lr = 0.01"
   ]
  },
  {
   "cell_type": "markdown",
   "metadata": {},
   "source": [
    "## Load AT&t faces dataset"
   ]
  },
  {
   "cell_type": "code",
   "execution_count": 4,
   "metadata": {
    "pycharm": {
     "is_executing": false,
     "name": "#%%\n"
    }
   },
   "outputs": [],
   "source": [
    "data_dir = \"../DATA/att_faces/orl_faces\"\n",
    "\n",
    "img_paths = []\n",
    "for p in os.listdir(data_dir):\n",
    "    for i in os.listdir(os.path.join(data_dir, p)):\n",
    "        img_paths.append(os.path.join(data_dir, p, i))\n",
    "\n",
    "people = []\n",
    "people_to_idx = {}\n",
    "\n",
    "k=0\n",
    "for i in img_paths:\n",
    "    name = i.split('/')[4]\n",
    "    if name not in people_to_idx:\n",
    "        people.append(name)\n",
    "        people_to_idx[name] = k\n",
    "        k += 1\n"
   ]
  },
  {
   "cell_type": "code",
   "execution_count": 5,
   "metadata": {
    "pycharm": {
     "is_executing": false,
     "name": "#%%\n"
    }
   },
   "outputs": [],
   "source": [
    "img_paths = np.random.permutation(img_paths)\n",
    "att_size = len(img_paths)\n",
    "att_train_size = int(0.7 * att_size)\n",
    "\n",
    "att_train_list = img_paths[:att_train_size]\n",
    "att_test_list = img_paths[att_train_size:]"
   ]
  },
  {
   "cell_type": "code",
   "execution_count": 6,
   "metadata": {
    "pycharm": {
     "is_executing": false,
     "name": "#%%\n"
    }
   },
   "outputs": [],
   "source": [
    "class ATTdataset(Dataset): \n",
    "    def __init__(self, file_list, class_to_label, transform=None): \n",
    "        self.file_list = file_list\n",
    "        self.transform = transform\n",
    "        self.people_to_idx = class_to_label\n",
    "\n",
    "    def __len__(self): \n",
    "        return len(self.file_list)\n",
    "\n",
    "    def __getitem__(self, idx): \n",
    "        image = np.empty((112, 92, 1), dtype=np.uint8)\n",
    "        img_path = self.file_list[idx]\n",
    "        im = io.imread(img_path)\n",
    "        im = im.reshape(112,92)\n",
    "        image[:,:,0]= im\n",
    "#         image[:,:,1]= im\n",
    "#         image[:,:,2]= im\n",
    "\n",
    "        label = self.people_to_idx[img_path.split('/')[4]]\n",
    "        \n",
    "        if self.transform is not None: \n",
    "            image = self.transform(image)\n",
    "        return image, label"
   ]
  },
  {
   "cell_type": "markdown",
   "metadata": {},
   "source": [
    "## Data Augmentation"
   ]
  },
  {
   "cell_type": "code",
   "execution_count": 7,
   "metadata": {
    "pycharm": {
     "is_executing": false,
     "name": "#%%\n"
    }
   },
   "outputs": [],
   "source": [
    "train_transform = torchvision.transforms.Compose([\n",
    "    # TODO try different data tranforms\n",
    "    \n",
    "    # Convert numpy.ndarray to tensor.\n",
    "    torchvision.transforms.ToTensor(),\n",
    "    \n",
    "    # Normalize a tensor image with mean and standard deviation. Given mean: (M1,...,Mn) and std: (S1,..,Sn)\n",
    "    torchvision.transforms.Normalize((0.5,0.5,0.5), (0.5, 0.5, 0.5))\n",
    "])\n",
    "\n",
    "test_transform = torchvision.transforms.Compose([\n",
    "    # TODO try different data tranforms\n",
    "    \n",
    "    # Convert numpy.ndarray to tensor.\n",
    "    torchvision.transforms.ToTensor(),\n",
    "    \n",
    "    # Normalize a tensor image with mean and standard deviation. Given mean: (M1,...,Mn) and std: (S1,..,Sn)\n",
    "    torchvision.transforms.Normalize((0.5,0.5,0.5), (0.5, 0.5, 0.5))\n",
    "])\n"
   ]
  },
  {
   "cell_type": "code",
   "execution_count": 8,
   "metadata": {
    "pycharm": {
     "is_executing": false,
     "name": "#%% \n"
    }
   },
   "outputs": [],
   "source": [
    "# train/test split\n",
    "trainset = ATTdataset(att_train_list, people_to_idx, transform=train_transform)\n",
    "testset = ATTdataset(att_test_list, people_to_idx, transform=test_transform)\n",
    "sampleset = ATTdataset(att_test_list, people_to_idx, transform=torchvision.transforms.ToTensor())\n",
    "\n",
    "trainloader = torch.utils.data.DataLoader(trainset, batch_size=batch_size, shuffle=True, num_workers=2)\n",
    "testloader = torch.utils.data.DataLoader(testset, batch_size=32, shuffle=False, num_workers=2)\n",
    "sampleloader = torch.utils.data.DataLoader(sampleset, batch_size=1, shuffle=False, num_workers=2)\n",
    "                                           "
   ]
  },
  {
   "cell_type": "code",
   "execution_count": 9,
   "metadata": {
    "pycharm": {
     "is_executing": false,
     "name": "#%%\n"
    }
   },
   "outputs": [],
   "source": [
    "# helper function to un-normalize and plot image\n",
    "def imshow(img):\n",
    "    img = np.array(img)\n",
    "    img = img / 2 + 0.5\n",
    "    img = np.moveaxis(img, 0, -1)\n",
    "    plt.imshow(img)\n",
    "\n",
    "# display sample from dataset \n",
    "imgs, labels = iter(trainloader).next()\n",
    "imshow(torchvision.utils.make_grid(imgs)) \n",
    "print(labels)\n",
    "print(imgs.min())\n",
    "print(imgs.max())\n",
    "print(imgs.shape)"
   ]
  },
  {
   "cell_type": "markdown",
   "metadata": {
    "pycharm": {
     "name": "#%% md\n"
    }
   },
   "source": [
    "## Model Architecture"
   ]
  },
  {
   "cell_type": "code",
   "execution_count": 10,
   "metadata": {
    "pycharm": {
     "is_executing": false,
     "name": "#%%\n"
    }
   },
   "outputs": [],
   "source": [
    "# 1 hidden layer only\n",
    "class mlp(nn.Module): \n",
    "    def __init__(self, n_in=112*92, n_out=40, n_hidden=3000): \n",
    "        super(mlp, self).__init__()\n",
    "        # Applies a linear transformation to the incoming data: y = xA^T + b\n",
    "        self.hidden1 = nn.Linear(n_in, n_out)        \n",
    "\n",
    "    def forward(self, x):\n",
    "\n",
    "        x = x.view(-1,112*92)\n",
    "        out = self.hidden1(x)\n",
    "        return out\n",
    "\n"
   ]
  },
  {
   "cell_type": "code",
   "execution_count": 11,
   "metadata": {
    "pycharm": {
     "is_executing": false,
     "name": "#%%\n"
    }
   },
   "outputs": [],
   "source": [
    "# determine device to run network on (runs on gpu if available)\n",
    "device = torch.device(\"cuda:0\" if torch.cuda.is_available() else \"cpu\")\n",
    "\n",
    "net = mlp().to(device)\n",
    "net.apply(models.weights_init)\n",
    "\n",
    "net2 = mlp().to(device)\n",
    "net2.apply(models.weights_init)\n",
    "\n",
    "criterion = nn.CrossEntropyLoss()\n",
    "optimizer = optim.Adam(net.parameters(), lr=lr)\n",
    "optimizer2 = optim.SGD(net2.parameters(), lr=lr, momentum=0.9, weight_decay=5e-4)\n",
    "\n",
    "\n",
    "ww0 = copy.deepcopy(net2.hidden1.weight.data)\n",
    "bb = copy.deepcopy(net2.hidden1.bias.data[:])\n",
    "im0 = ww0[30].reshape(112,92)\n"
   ]
  },
  {
   "cell_type": "markdown",
   "metadata": {},
   "source": [
    "## training"
   ]
  },
  {
   "cell_type": "code",
   "execution_count": 12,
   "metadata": {
    "pycharm": {
     "is_executing": false,
     "name": "#%%\n"
    }
   },
   "outputs": [],
   "source": [
    "train(net, trainloader, testloader, optimizer, criterion, n_epochs, verbose=False)\n"
   ]
  },
  {
   "cell_type": "code",
   "execution_count": 13,
   "metadata": {
    "pycharm": {
     "is_executing": false,
     "name": "#%%\n"
    }
   },
   "outputs": [],
   "source": [
    "train(net2, trainloader, testloader, optimizer2, criterion, n_epochs, verbose=False)"
   ]
  },
  {
   "cell_type": "code",
   "execution_count": 17,
   "outputs": [],
   "source": [
    "ww = net2.hidden1.weight.data[:]\n",
    "bb = net2.hidden1.bias.data[:]\n",
    "im0CPU = im0.cpu().detach().numpy()\n",
    "\n",
    "im_train = ww[20,:].squeeze().cpu().detach().numpy().reshape(112,92)\n",
    "plt.imshow(im0CPU,cmap='gray')\n",
    "plt.show()\n",
    "\n",
    "plt.imshow(im_train,cmap='gray')\n",
    "plt.show()\n",
    "\n",
    "plt.imshow(im_train-im0CPU,cmap='gray')\n",
    "plt.show()\n",
    "\n",
    "randimg = torch.randn(im_train.shape).cpu().detach().numpy()/100\n",
    "plt.imshow(im_train-randimg,cmap='gray')\n",
    "plt.show()\n"
   ],
   "metadata": {
    "collapsed": false,
    "pycharm": {
     "name": "#%%\n",
     "is_executing": false
    }
   }
  },
  {
   "cell_type": "markdown",
   "source": [
    "## Gradient Ascent\n",
    "\n"
   ],
   "metadata": {
    "collapsed": false
   }
  },
  {
   "cell_type": "code",
   "execution_count": null,
   "outputs": [],
   "source": [
    "from torch.autograd import Variable\n",
    "\n",
    "def ga(image, net, iterations, lr,category):        \n",
    "    category = Variable(torch.cuda.LongTensor([category]))\n",
    "    input = Variable(image.unsqueeze(0).cuda(), requires_grad=True)\n",
    "    losses = []\n",
    "    grad0 = np.zeros((112,92))\n",
    "    for j in range(iterations):\n",
    "        for i in range(1):\n",
    "\n",
    "            net.zero_grad()\n",
    "            \n",
    "#             out = nn.functional.softmax(net(input), dim=1)\n",
    "            out = net(input)\n",
    "            loss= -out.take(category)#+reg_alpha\n",
    "            \n",
    "            loss.backward()\n",
    "            input.data = input.data - lr * input.grad.data\n",
    "            input.grad.zero_()\n",
    "        losses.append(loss.data)\n",
    "#         print(j)\n",
    "        grad0=input.grad.data.squeeze().cpu().detach().numpy()\n",
    "        input.grad.data = input.grad.data - input.grad.data\n",
    "#         plt.imsave(f\"Results/2Fred {j}.png\",input.squeeze().cpu().detach().numpy(),cmap = 'gray',vmin =-1 , vmax = 1,format='png')\n",
    "    plt.plot(losses)\n",
    "    plt.show()\n",
    "\n",
    "    \n",
    "    return input\n"
   ],
   "metadata": {
    "collapsed": false,
    "pycharm": {
     "name": "#%%\n"
    }
   }
  }
 ],
 "metadata": {
  "kernelspec": {
   "display_name": "Python 3",
   "language": "python",
   "name": "python3"
  },
  "language_info": {
   "codemirror_mode": {
    "name": "ipython",
    "version": 3
   },
   "file_extension": ".py",
   "mimetype": "text/x-python",
   "name": "python",
   "nbconvert_exporter": "python",
   "pygments_lexer": "ipython3",
   "version": "3.6.9"
  },
  "pycharm": {
   "stem_cell": {
    "cell_type": "raw",
    "source": [],
    "metadata": {
     "collapsed": false
    }
   }
  }
 },
 "nbformat": 4,
 "nbformat_minor": 1
}